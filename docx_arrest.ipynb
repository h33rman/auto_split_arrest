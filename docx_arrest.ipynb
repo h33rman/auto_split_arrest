{
 "cells": [
  {
   "metadata": {
    "ExecuteTime": {
     "end_time": "2024-09-30T19:44:52.936073Z",
     "start_time": "2024-09-30T19:44:52.819423Z"
    }
   },
   "cell_type": "code",
   "source": [
    "\n",
    "import os\n",
    "from docx import Document\n",
    "\n",
    "\n",
    "# Function to save a document into a new file\n",
    "def save_new_doc(new_arret, arret_number):\n",
    "    output_dir = \"output\"\n",
    "    if not os.path.exists(output_dir):\n",
    "        os.makedirs(output_dir)\n",
    "\n",
    "    new_filename = f\"{output_dir}/arrest-{arret_number}.docx\"\n",
    "    new_doc = Document()\n",
    "    for para in new_arret:\n",
    "        new_doc.add_paragraph(para.text)\n",
    "    new_doc.save(new_filename)\n",
    "    print(f\"Saved: {new_filename}\")\n",
    "\n",
    "\n",
    "# Function to split the document based on \"Arrêt n°\"\n",
    "def split_document(doc_path):\n",
    "    doc = Document(doc_path)\n",
    "    arret_number = 1\n",
    "    new_arret = []\n",
    "\n",
    "    for para in doc.paragraphs:\n",
    "        # Detect the beginning of a new \"Arrêt\" using \"Arrêt n°\" or \"Dossier n°\"\n",
    "        if para.text.startswith(\"Arrêt n°\"):\n",
    "            if new_arret:\n",
    "                # Save the previous \"Arrêt\" into a new file\n",
    "                save_new_doc(new_arret, arret_number)\n",
    "                arret_number += 1\n",
    "                new_arret = []\n",
    "\n",
    "        new_arret.append(para)\n",
    "\n",
    "    # Save the last \"Arrêt\" if present\n",
    "    if new_arret:\n",
    "        save_new_doc(new_arret, arret_number)\n",
    "\n"
   ],
   "id": "42ed8830eb62e995",
   "outputs": [],
   "execution_count": 1
  },
  {
   "metadata": {
    "ExecuteTime": {
     "end_time": "2024-09-30T19:45:59.912881Z",
     "start_time": "2024-09-30T19:45:55.402777Z"
    }
   },
   "cell_type": "code",
   "source": [
    "input_doc = \"/home/herman/Downloads/Documents/LivreRecueil_2009_all.docx\"\n",
    "split_document(input_doc)"
   ],
   "id": "40c4ffa8d0bee891",
   "outputs": [
    {
     "name": "stdout",
     "output_type": "stream",
     "text": [
      "Saved: output/arrest-1.docx\n",
      "Saved: output/arrest-2.docx\n",
      "Saved: output/arrest-3.docx\n",
      "Saved: output/arrest-4.docx\n",
      "Saved: output/arrest-5.docx\n",
      "Saved: output/arrest-6.docx\n",
      "Saved: output/arrest-7.docx\n",
      "Saved: output/arrest-8.docx\n",
      "Saved: output/arrest-9.docx\n",
      "Saved: output/arrest-10.docx\n",
      "Saved: output/arrest-11.docx\n",
      "Saved: output/arrest-12.docx\n",
      "Saved: output/arrest-13.docx\n",
      "Saved: output/arrest-14.docx\n",
      "Saved: output/arrest-15.docx\n",
      "Saved: output/arrest-16.docx\n",
      "Saved: output/arrest-17.docx\n",
      "Saved: output/arrest-18.docx\n",
      "Saved: output/arrest-19.docx\n",
      "Saved: output/arrest-20.docx\n",
      "Saved: output/arrest-21.docx\n",
      "Saved: output/arrest-22.docx\n",
      "Saved: output/arrest-23.docx\n",
      "Saved: output/arrest-24.docx\n",
      "Saved: output/arrest-25.docx\n",
      "Saved: output/arrest-26.docx\n",
      "Saved: output/arrest-27.docx\n",
      "Saved: output/arrest-28.docx\n",
      "Saved: output/arrest-29.docx\n",
      "Saved: output/arrest-30.docx\n",
      "Saved: output/arrest-31.docx\n",
      "Saved: output/arrest-32.docx\n",
      "Saved: output/arrest-33.docx\n",
      "Saved: output/arrest-34.docx\n",
      "Saved: output/arrest-35.docx\n",
      "Saved: output/arrest-36.docx\n",
      "Saved: output/arrest-37.docx\n",
      "Saved: output/arrest-38.docx\n",
      "Saved: output/arrest-39.docx\n",
      "Saved: output/arrest-40.docx\n",
      "Saved: output/arrest-41.docx\n",
      "Saved: output/arrest-42.docx\n",
      "Saved: output/arrest-43.docx\n",
      "Saved: output/arrest-44.docx\n",
      "Saved: output/arrest-45.docx\n",
      "Saved: output/arrest-46.docx\n",
      "Saved: output/arrest-47.docx\n",
      "Saved: output/arrest-48.docx\n",
      "Saved: output/arrest-49.docx\n",
      "Saved: output/arrest-50.docx\n",
      "Saved: output/arrest-51.docx\n",
      "Saved: output/arrest-52.docx\n",
      "Saved: output/arrest-53.docx\n",
      "Saved: output/arrest-54.docx\n",
      "Saved: output/arrest-55.docx\n",
      "Saved: output/arrest-56.docx\n",
      "Saved: output/arrest-57.docx\n",
      "Saved: output/arrest-58.docx\n",
      "Saved: output/arrest-59.docx\n",
      "Saved: output/arrest-60.docx\n",
      "Saved: output/arrest-61.docx\n",
      "Saved: output/arrest-62.docx\n",
      "Saved: output/arrest-63.docx\n",
      "Saved: output/arrest-64.docx\n",
      "Saved: output/arrest-65.docx\n",
      "Saved: output/arrest-66.docx\n",
      "Saved: output/arrest-67.docx\n",
      "Saved: output/arrest-68.docx\n",
      "Saved: output/arrest-69.docx\n"
     ]
    }
   ],
   "execution_count": 2
  },
  {
   "metadata": {},
   "cell_type": "code",
   "outputs": [],
   "execution_count": null,
   "source": "",
   "id": "699a49e024f9fb51"
  }
 ],
 "metadata": {
  "kernelspec": {
   "display_name": "Python 3",
   "language": "python",
   "name": "python3"
  },
  "language_info": {
   "codemirror_mode": {
    "name": "ipython",
    "version": 2
   },
   "file_extension": ".py",
   "mimetype": "text/x-python",
   "name": "python",
   "nbconvert_exporter": "python",
   "pygments_lexer": "ipython2",
   "version": "2.7.6"
  }
 },
 "nbformat": 4,
 "nbformat_minor": 5
}
