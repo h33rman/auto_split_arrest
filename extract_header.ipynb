{
 "cells": [
  {
   "metadata": {
    "ExecuteTime": {
     "end_time": "2024-11-25T08:48:35.409620Z",
     "start_time": "2024-11-25T08:48:21.272156Z"
    }
   },
   "cell_type": "code",
   "source": [
    "import re\n",
    "import csv\n",
    "from PyPDF2 import PdfReader\n",
    "\n",
    "def extract_arret_details(text):\n",
    "    # Regular expressions for the components\n",
    "    arrest_number_regex = r'Arrêt\\s*N[°º]\\s*(\\d+|NEANT)'\n",
    "    date_regex = r'du\\s+([0-9]{1,2}\\s+[a-zéû]+(?:\\s+[0-9]{4})?)'\n",
    "    reference_number_regex = r'Dossier\\s*N[°º]\\s*([^\\s]+(?:-\\S+)?)'\n",
    "\n",
    "    # Extract components\n",
    "    arrest_number = re.search(arrest_number_regex, text, re.IGNORECASE)\n",
    "    date = re.search(date_regex, text, re.IGNORECASE)\n",
    "    reference_number = re.search(reference_number_regex, text, re.IGNORECASE)\n",
    "\n",
    "    # Get matched groups or set None\n",
    "    arrest_number = arrest_number.group(1) if arrest_number else None\n",
    "    date = date.group(1) if date else None\n",
    "    reference_number = reference_number.group(1) if reference_number else None\n",
    "\n",
    "    return {\n",
    "        \"Arrest Number\": arrest_number,\n",
    "        \"Date\": date,\n",
    "        \"Reference Number\": reference_number,\n",
    "        \"Keywords\": None  # Skip keywords as requested\n",
    "    }\n",
    "\n",
    "def process_pdf(pdf_path, output_csv):\n",
    "    # Open the PDF file\n",
    "    reader = PdfReader(pdf_path)\n",
    "    extracted_data = []\n",
    "\n",
    "    # Iterate through each page\n",
    "    for page_num in range(len(reader.pages)):\n",
    "        page = reader.pages[page_num]\n",
    "        text = page.extract_text()\n",
    "\n",
    "        # Check if \"Arrêt\" appears on the page\n",
    "        if \"Arrêt\" in text:\n",
    "            details = extract_arret_details(text)\n",
    "            extracted_data.append(details)\n",
    "\n",
    "    # Save to CSV\n",
    "    with open(output_csv, mode='w', newline='', encoding='utf-8') as file:\n",
    "        writer = csv.DictWriter(file, fieldnames=[\"Arrest Number\", \"Date\", \"Reference Number\", \"Keywords\"])\n",
    "        writer.writeheader()\n",
    "        for data in extracted_data:\n",
    "            writer.writerow(data)\n",
    "\n",
    "    print(f\"Extracted data saved to {output_csv}\")\n",
    "\n",
    "# Path to your PDF file and output CSV file\n",
    "pdf_path = 'D:/all-arrest-2009.docx.pdf'\n",
    "output_csv = 'metadata.csv'\n",
    "\n",
    "# Process the PDF and save the data\n",
    "process_pdf(pdf_path, output_csv)"
   ],
   "id": "9ea5a31f18a99d80",
   "outputs": [
    {
     "name": "stdout",
     "output_type": "stream",
     "text": [
      "Extracted data saved to metadata.csv\n"
     ]
    }
   ],
   "execution_count": 7
  },
  {
   "metadata": {},
   "cell_type": "code",
   "outputs": [],
   "execution_count": null,
   "source": "",
   "id": "98488ddfd4e2220f"
  }
 ],
 "metadata": {
  "kernelspec": {
   "display_name": "Python 3",
   "language": "python",
   "name": "python3"
  },
  "language_info": {
   "codemirror_mode": {
    "name": "ipython",
    "version": 2
   },
   "file_extension": ".py",
   "mimetype": "text/x-python",
   "name": "python",
   "nbconvert_exporter": "python",
   "pygments_lexer": "ipython2",
   "version": "2.7.6"
  }
 },
 "nbformat": 4,
 "nbformat_minor": 5
}
