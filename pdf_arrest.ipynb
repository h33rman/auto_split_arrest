{
 "cells": [
  {
   "metadata": {},
   "cell_type": "markdown",
   "source": "# Import Libraries\n",
   "id": "686478f0fd9e684c"
  },
  {
   "metadata": {
    "ExecuteTime": {
     "end_time": "2024-11-22T13:56:01.483871Z",
     "start_time": "2024-11-22T13:56:01.358152Z"
    }
   },
   "cell_type": "code",
   "source": [
    "import re\n",
    "import os\n",
    "from PyPDF2 import PdfReader, PdfWriter"
   ],
   "id": "41266e7e2de6243e",
   "outputs": [],
   "execution_count": 1
  },
  {
   "metadata": {
    "ExecuteTime": {
     "end_time": "2024-11-22T13:56:09.823439Z",
     "start_time": "2024-11-22T13:56:09.809513Z"
    }
   },
   "cell_type": "code",
   "source": [
    "\n",
    "# Function to save a new PDF file with extracted pages\n",
    "def save_new_pdf(pdf_writer, arrest_number):\n",
    "    output_dir = \"output_pdf\"\n",
    "    if not os.path.exists(output_dir):\n",
    "        os.makedirs(output_dir)\n",
    "\n",
    "    # Create the output file name based on the arrest number\n",
    "    new_filename = f\"{output_dir}/arrest_number_{arrest_number}.pdf\"\n",
    "\n",
    "    # Save the pages to the new PDF\n",
    "    with open(new_filename, \"wb\") as output_pdf:\n",
    "        pdf_writer.write(output_pdf)\n",
    "\n",
    "    print(f\"Saved: {new_filename}\")\n",
    "\n",
    "\n",
    "# Function to extract the arrest number from the text\n",
    "def extract_arrest_number(text):\n",
    "    # Use regular expression to find the arrest number in the format \"Arrêt n°123\"\n",
    "    match = re.search(r'Arrêt n°\\s*(\\d+)', text)\n",
    "    if match:\n",
    "        return match.group(1)  # Return the number part\n",
    "    return None\n",
    "\n",
    "\n",
    "# Function to split the PDF based on \"Arrêt n°\"\n",
    "def split_pdf_by_arret(pdf_to_split):\n",
    "    # Open the PDF file\n",
    "    reader = PdfReader(pdf_to_split)\n",
    "    pdf_writer = None  # Initialize the PDF writer for each \"Arrêt\"\n",
    "    arrest_number = None  # Keep track of the current arrest number\n",
    "    \n",
    "    # Iterate through each page in the PDF\n",
    "    for page_num in range(len(reader.pages)):\n",
    "        page = reader.pages[page_num]\n",
    "        text = page.extract_text()\n",
    "\n",
    "        # Detect the beginning of a new \"Arrêt\" using \"Arrêt n°\"\n",
    "        if \"Arrêt n°\" in text:\n",
    "            # If we have a writer, save the previous arrest\n",
    "            if pdf_writer and arrest_number:\n",
    "                save_new_pdf(pdf_writer, arrest_number)\n",
    "\n",
    "            # Extract the new arrest number and start a new PDF writer\n",
    "            arrest_number = extract_arrest_number(text)\n",
    "            pdf_writer = PdfWriter()\n",
    "\n",
    "        # Add the current page to the current arrest's writer\n",
    "        if pdf_writer:\n",
    "            pdf_writer.add_page(page)\n",
    "    \n",
    "    # Save the last arrest if there are any remaining pages\n",
    "    if pdf_writer and arrest_number:\n",
    "        save_new_pdf(pdf_writer, arrest_number)\n",
    "\n"
   ],
   "id": "b9357f1541dfea45",
   "outputs": [],
   "execution_count": 2
  },
  {
   "metadata": {
    "ExecuteTime": {
     "end_time": "2024-11-22T13:59:49.451844Z",
     "start_time": "2024-11-22T13:59:38.755917Z"
    }
   },
   "cell_type": "code",
   "source": [
    "pdf_path = \"D:/Data/LivreRecueil2009_complet.pdf\"\n",
    "split_pdf_by_arret(pdf_path)\n",
    "# print the output\n",
    "print(\"Done\")"
   ],
   "id": "bb2939fb4e73bd9",
   "outputs": [
    {
     "name": "stdout",
     "output_type": "stream",
     "text": [
      "Done\n"
     ]
    }
   ],
   "execution_count": 4
  },
  {
   "metadata": {},
   "cell_type": "code",
   "outputs": [],
   "execution_count": null,
   "source": "",
   "id": "e097e7390c751beb"
  }
 ],
 "metadata": {
  "kernelspec": {
   "display_name": "Python 3",
   "language": "python",
   "name": "python3"
  },
  "language_info": {
   "codemirror_mode": {
    "name": "ipython",
    "version": 2
   },
   "file_extension": ".py",
   "mimetype": "text/x-python",
   "name": "python",
   "nbconvert_exporter": "python",
   "pygments_lexer": "ipython2",
   "version": "2.7.6"
  }
 },
 "nbformat": 4,
 "nbformat_minor": 5
}
