{
 "cells": [
  {
   "metadata": {},
   "cell_type": "markdown",
   "source": "# Import Libraries\n",
   "id": "686478f0fd9e684c"
  },
  {
   "metadata": {
    "ExecuteTime": {
     "end_time": "2024-10-23T12:19:21.371471Z",
     "start_time": "2024-10-23T12:19:21.365821Z"
    }
   },
   "cell_type": "code",
   "source": [
    "import re\n",
    "import os\n",
    "from PyPDF2 import PdfReader, PdfWriter"
   ],
   "id": "41266e7e2de6243e",
   "outputs": [],
   "execution_count": 13
  },
  {
   "metadata": {
    "ExecuteTime": {
     "end_time": "2024-10-23T12:19:21.516427Z",
     "start_time": "2024-10-23T12:19:21.503747Z"
    }
   },
   "cell_type": "code",
   "source": [
    "\n",
    "# Function to save a new PDF file with extracted pages\n",
    "def save_new_pdf(pdf_writer, arrest_number):\n",
    "    output_dir = \"output_pdf\"\n",
    "    if not os.path.exists(output_dir):\n",
    "        os.makedirs(output_dir)\n",
    "\n",
    "    # Create the output file name based on the arrest number\n",
    "    new_filename = f\"{output_dir}/arrest_number_{arrest_number}.pdf\"\n",
    "\n",
    "    # Save the pages to the new PDF\n",
    "    with open(new_filename, \"wb\") as output_pdf:\n",
    "        pdf_writer.write(output_pdf)\n",
    "\n",
    "    print(f\"Saved: {new_filename}\")\n",
    "\n",
    "\n",
    "# Function to extract the arrest number from the text\n",
    "def extract_arrest_number(text):\n",
    "    # Use regular expression to find the arrest number in the format \"Arrêt n°123\"\n",
    "    match = re.search(r'Arrêt n°\\s*(\\d+)', text)\n",
    "    if match:\n",
    "        return match.group(1)  # Return the number part\n",
    "    return None\n",
    "\n",
    "\n",
    "# Function to split the PDF based on \"Arrêt n°\"\n",
    "def split_pdf_by_arret(pdf_to_split):\n",
    "    # Open the PDF file\n",
    "    reader = PdfReader(pdf_to_split)\n",
    "    pdf_writer = None  # Initialize the PDF writer for each \"Arrêt\"\n",
    "    arrest_number = None  # Keep track of the current arrest number\n",
    "    \n",
    "    # Iterate through each page in the PDF\n",
    "    for page_num in range(len(reader.pages)):\n",
    "        page = reader.pages[page_num]\n",
    "        text = page.extract_text()\n",
    "\n",
    "        # Detect the beginning of a new \"Arrêt\" using \"Arrêt n°\"\n",
    "        if \"Arrêt n°\" in text:\n",
    "            # If we have a writer, save the previous arrest\n",
    "            if pdf_writer and arrest_number:\n",
    "                save_new_pdf(pdf_writer, arrest_number)\n",
    "\n",
    "            # Extract the new arrest number and start a new PDF writer\n",
    "            arrest_number = extract_arrest_number(text)\n",
    "            pdf_writer = PdfWriter()\n",
    "\n",
    "        # Add the current page to the current arrest's writer\n",
    "        if pdf_writer:\n",
    "            pdf_writer.add_page(page)\n",
    "    \n",
    "    # Save the last arrest if there are any remaining pages\n",
    "    if pdf_writer and arrest_number:\n",
    "        save_new_pdf(pdf_writer, arrest_number)\n",
    "\n"
   ],
   "id": "b9357f1541dfea45",
   "outputs": [],
   "execution_count": 14
  },
  {
   "metadata": {
    "ExecuteTime": {
     "end_time": "2024-10-23T12:19:29.770344Z",
     "start_time": "2024-10-23T12:19:21.561800Z"
    }
   },
   "cell_type": "code",
   "source": [
    "pdf_path = \"/home/herman/Downloads/Documents/LivreRecueil_2009_all.pdf\"\n",
    "split_pdf_by_arret(pdf_path)\n",
    "# print the output\n",
    "print(\"Done\")"
   ],
   "id": "8ba8bf6c408a3acf",
   "outputs": [
    {
     "name": "stdout",
     "output_type": "stream",
     "text": [
      "Saved: output_pdf/arrest_number_01.pdf\n",
      "Saved: output_pdf/arrest_number_02.pdf\n",
      "Saved: output_pdf/arrest_number_04.pdf\n",
      "Saved: output_pdf/arrest_number_05.pdf\n",
      "Saved: output_pdf/arrest_number_06.pdf\n",
      "Saved: output_pdf/arrest_number_07.pdf\n",
      "Saved: output_pdf/arrest_number_08.pdf\n",
      "Saved: output_pdf/arrest_number_14.pdf\n",
      "Saved: output_pdf/arrest_number_18.pdf\n",
      "Saved: output_pdf/arrest_number_27.pdf\n",
      "Saved: output_pdf/arrest_number_29.pdf\n",
      "Saved: output_pdf/arrest_number_30.pdf\n",
      "Saved: output_pdf/arrest_number_35.pdf\n",
      "Saved: output_pdf/arrest_number_37.pdf\n",
      "Saved: output_pdf/arrest_number_41.pdf\n",
      "Saved: output_pdf/arrest_number_42.pdf\n",
      "Saved: output_pdf/arrest_number_43.pdf\n",
      "Saved: output_pdf/arrest_number_44.pdf\n",
      "Saved: output_pdf/arrest_number_45.pdf\n",
      "Saved: output_pdf/arrest_number_46.pdf\n",
      "Saved: output_pdf/arrest_number_57.pdf\n",
      "Saved: output_pdf/arrest_number_66.pdf\n",
      "Saved: output_pdf/arrest_number_67.pdf\n",
      "Saved: output_pdf/arrest_number_68.pdf\n",
      "Saved: output_pdf/arrest_number_69.pdf\n",
      "Saved: output_pdf/arrest_number_70.pdf\n",
      "Saved: output_pdf/arrest_number_71.pdf\n",
      "Saved: output_pdf/arrest_number_72.pdf\n",
      "Saved: output_pdf/arrest_number_73.pdf\n",
      "Saved: output_pdf/arrest_number_74.pdf\n",
      "Saved: output_pdf/arrest_number_75.pdf\n",
      "Saved: output_pdf/arrest_number_91.pdf\n",
      "Saved: output_pdf/arrest_number_106.pdf\n",
      "Saved: output_pdf/arrest_number_107.pdf\n",
      "Saved: output_pdf/arrest_number_110.pdf\n",
      "Saved: output_pdf/arrest_number_177.pdf\n",
      "Saved: output_pdf/arrest_number_182.pdf\n",
      "Saved: output_pdf/arrest_number_211.pdf\n",
      "Saved: output_pdf/arrest_number_218.pdf\n",
      "Saved: output_pdf/arrest_number_222.pdf\n",
      "Saved: output_pdf/arrest_number_226.pdf\n",
      "Saved: output_pdf/arrest_number_230.pdf\n",
      "Saved: output_pdf/arrest_number_232.pdf\n",
      "Saved: output_pdf/arrest_number_235.pdf\n",
      "Saved: output_pdf/arrest_number_237.pdf\n",
      "Saved: output_pdf/arrest_number_239.pdf\n",
      "Saved: output_pdf/arrest_number_242.pdf\n",
      "Saved: output_pdf/arrest_number_243.pdf\n",
      "Saved: output_pdf/arrest_number_244.pdf\n",
      "Saved: output_pdf/arrest_number_245.pdf\n",
      "Saved: output_pdf/arrest_number_246.pdf\n",
      "Saved: output_pdf/arrest_number_247.pdf\n",
      "Saved: output_pdf/arrest_number_248.pdf\n",
      "Saved: output_pdf/arrest_number_250.pdf\n",
      "Saved: output_pdf/arrest_number_251.pdf\n",
      "Saved: output_pdf/arrest_number_252.pdf\n",
      "Saved: output_pdf/arrest_number_254.pdf\n",
      "Saved: output_pdf/arrest_number_256.pdf\n",
      "Saved: output_pdf/arrest_number_259.pdf\n",
      "Saved: output_pdf/arrest_number_260.pdf\n",
      "Saved: output_pdf/arrest_number_261.pdf\n",
      "Saved: output_pdf/arrest_number_262.pdf\n",
      "Saved: output_pdf/arrest_number_264.pdf\n",
      "Saved: output_pdf/arrest_number_266.pdf\n",
      "Saved: output_pdf/arrest_number_267.pdf\n",
      "Saved: output_pdf/arrest_number_269.pdf\n",
      "Saved: output_pdf/arrest_number_271.pdf\n",
      "Saved: output_pdf/arrest_number_272.pdf\n",
      "Saved: output_pdf/arrest_number_274.pdf\n"
     ]
    }
   ],
   "execution_count": 15
  },
  {
   "metadata": {
    "ExecuteTime": {
     "end_time": "2024-10-23T12:19:29.806178Z",
     "start_time": "2024-10-23T12:19:29.801686Z"
    }
   },
   "cell_type": "code",
   "source": "",
   "id": "f01b56e244b42392",
   "outputs": [],
   "execution_count": null
  }
 ],
 "metadata": {
  "kernelspec": {
   "display_name": "Python 3",
   "language": "python",
   "name": "python3"
  },
  "language_info": {
   "codemirror_mode": {
    "name": "ipython",
    "version": 2
   },
   "file_extension": ".py",
   "mimetype": "text/x-python",
   "name": "python",
   "nbconvert_exporter": "python",
   "pygments_lexer": "ipython2",
   "version": "2.7.6"
  }
 },
 "nbformat": 4,
 "nbformat_minor": 5
}
